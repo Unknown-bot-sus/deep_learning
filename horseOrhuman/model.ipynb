{
 "cells": [
  {
   "cell_type": "code",
   "execution_count": 1,
   "id": "5a203e40-8e44-4864-8992-b361d76bb382",
   "metadata": {},
   "outputs": [],
   "source": [
    "import urllib.request\n",
    "import zipfile"
   ]
  },
  {
   "cell_type": "code",
   "execution_count": 10,
   "id": "0b601108-85ab-40b3-bd5d-8da1b3d519e0",
   "metadata": {},
   "outputs": [],
   "source": [
    "url = \"https://storage.googleapis.com/download.tensorflow.org/data/horse-or-human.zip\"\n",
    "file_name = \"horse-or-human.zip\"\n",
    "training_dir = 'horse-or-human/training/'\n",
    "\n",
    "validation_url = \"https://storage.googleapis.com/download.tensorflow.org/data/validation-horse-or-human.zip\"\n",
    "validation_file_name = \"validation-horse-or-human.zip\"\n",
    "validation_dir = 'horse-or-human/validation/'"
   ]
  },
  {
   "cell_type": "markdown",
   "id": "676089ed-8d79-4cab-9fe4-722f82cc6f06",
   "metadata": {},
   "source": [
    "# Run this only if you <font color='red'>don't have images</font> in your current directory"
   ]
  },
  {
   "cell_type": "code",
   "execution_count": 6,
   "id": "f3908b62-69e0-4510-883f-e13677ba0d3a",
   "metadata": {},
   "outputs": [],
   "source": [
    "urllib.request.urlretrieve(url, file_name)\n",
    "with zipfile.ZipFile(file_name) as f:\n",
    "    f.extractall(training_dir)"
   ]
  },
  {
   "cell_type": "code",
   "execution_count": 12,
   "id": "e34809cd-de4e-4451-91eb-a60e7bccf465",
   "metadata": {},
   "outputs": [],
   "source": [
    "urllib.request.urlretrieve(validation_url, validation_file_name)\n",
    "with zipfile.ZipFile(validation_file_name) as f:\n",
    "    f.extractall(validation_dir)"
   ]
  },
  {
   "cell_type": "code",
   "execution_count": 3,
   "id": "4929acb6-6e1d-4a5c-a4c9-6a1b712a8c9c",
   "metadata": {},
   "outputs": [
    {
     "name": "stderr",
     "output_type": "stream",
     "text": [
      "2024-01-30 13:24:29.255576: I tensorflow/core/util/port.cc:113] oneDNN custom operations are on. You may see slightly different numerical results due to floating-point round-off errors from different computation orders. To turn them off, set the environment variable `TF_ENABLE_ONEDNN_OPTS=0`.\n",
      "2024-01-30 13:24:29.257708: I external/local_tsl/tsl/cuda/cudart_stub.cc:31] Could not find cuda drivers on your machine, GPU will not be used.\n",
      "2024-01-30 13:24:29.293588: E external/local_xla/xla/stream_executor/cuda/cuda_dnn.cc:9261] Unable to register cuDNN factory: Attempting to register factory for plugin cuDNN when one has already been registered\n",
      "2024-01-30 13:24:29.293622: E external/local_xla/xla/stream_executor/cuda/cuda_fft.cc:607] Unable to register cuFFT factory: Attempting to register factory for plugin cuFFT when one has already been registered\n",
      "2024-01-30 13:24:29.294671: E external/local_xla/xla/stream_executor/cuda/cuda_blas.cc:1515] Unable to register cuBLAS factory: Attempting to register factory for plugin cuBLAS when one has already been registered\n",
      "2024-01-30 13:24:29.300981: I external/local_tsl/tsl/cuda/cudart_stub.cc:31] Could not find cuda drivers on your machine, GPU will not be used.\n",
      "2024-01-30 13:24:29.301484: I tensorflow/core/platform/cpu_feature_guard.cc:182] This TensorFlow binary is optimized to use available CPU instructions in performance-critical operations.\n",
      "To enable the following instructions: AVX2 AVX512F AVX512_VNNI FMA, in other operations, rebuild TensorFlow with the appropriate compiler flags.\n",
      "2024-01-30 13:24:30.310733: W tensorflow/compiler/tf2tensorrt/utils/py_utils.cc:38] TF-TRT Warning: Could not find TensorRT\n"
     ]
    }
   ],
   "source": [
    "from tensorflow.keras.preprocessing.image import ImageDataGenerator\n",
    "from tensorflow.keras.models import Sequential\n",
    "from tensorflow.keras.layers import Conv2D, MaxPooling2D, Flatten, Dense\n",
    "from tensorflow.keras.optimizers import RMSprop"
   ]
  },
  {
   "cell_type": "code",
   "execution_count": 4,
   "id": "8b473312-e033-4f93-adb6-05b4611bf05c",
   "metadata": {},
   "outputs": [
    {
     "name": "stdout",
     "output_type": "stream",
     "text": [
      "Found 1027 images belonging to 2 classes.\n"
     ]
    }
   ],
   "source": [
    "# All images will be rescaled by 1./255\n",
    "train_datagen = ImageDataGenerator(rescale=1/255)\n",
    "train_generator = train_datagen.flow_from_directory(\n",
    "    training_dir,\n",
    "    target_size=(300, 300),\n",
    "    class_mode='binary'\n",
    ")"
   ]
  },
  {
   "cell_type": "code",
   "execution_count": 16,
   "id": "b5c6d720-09e7-485b-a4bb-970833822c76",
   "metadata": {},
   "outputs": [
    {
     "name": "stdout",
     "output_type": "stream",
     "text": [
      "Found 256 images belonging to 2 classes.\n"
     ]
    }
   ],
   "source": [
    "validation_datagen = ImageDataGenerator(rescale=1/255)\n",
    "validation_generator = validation_datagen.flow_from_directory(\n",
    "    validation_dir,\n",
    "    target_size=(300, 300),\n",
    "    class_mode=\"binary\"\n",
    ")"
   ]
  },
  {
   "cell_type": "code",
   "execution_count": 5,
   "id": "13a765a6-e1be-4696-a7d9-ab62611435c3",
   "metadata": {},
   "outputs": [],
   "source": [
    "model = Sequential([\n",
    "    Conv2D(16, (3, 3), activation=\"relu\", input_shape=(300, 300, 3)),\n",
    "    MaxPooling2D(2, 2),\n",
    "    Conv2D(32, (3, 3), activation=\"relu\"),\n",
    "    MaxPooling2D(2, 2),\n",
    "    Conv2D(64, (3, 3), activation=\"relu\"),\n",
    "    MaxPooling2D(2, 2),\n",
    "    Conv2D(64, (3, 3), activation=\"relu\"),\n",
    "    MaxPooling2D(2, 2),\n",
    "    Conv2D(64, (3, 3), activation=\"relu\"),\n",
    "    MaxPooling2D(2, 2),\n",
    "    Flatten(),\n",
    "    Dense(512, activation=\"relu\"),\n",
    "    Dense(1, activation=\"sigmoid\")\n",
    "])"
   ]
  },
  {
   "cell_type": "code",
   "execution_count": 6,
   "id": "4abfe49e-f753-4645-9f2f-54a1287d3627",
   "metadata": {},
   "outputs": [
    {
     "name": "stdout",
     "output_type": "stream",
     "text": [
      "Model: \"sequential\"\n",
      "_________________________________________________________________\n",
      " Layer (type)                Output Shape              Param #   \n",
      "=================================================================\n",
      " conv2d (Conv2D)             (None, 298, 298, 16)      448       \n",
      "                                                                 \n",
      " max_pooling2d (MaxPooling2  (None, 149, 149, 16)      0         \n",
      " D)                                                              \n",
      "                                                                 \n",
      " conv2d_1 (Conv2D)           (None, 147, 147, 32)      4640      \n",
      "                                                                 \n",
      " max_pooling2d_1 (MaxPoolin  (None, 73, 73, 32)        0         \n",
      " g2D)                                                            \n",
      "                                                                 \n",
      " conv2d_2 (Conv2D)           (None, 71, 71, 64)        18496     \n",
      "                                                                 \n",
      " max_pooling2d_2 (MaxPoolin  (None, 35, 35, 64)        0         \n",
      " g2D)                                                            \n",
      "                                                                 \n",
      " conv2d_3 (Conv2D)           (None, 33, 33, 64)        36928     \n",
      "                                                                 \n",
      " max_pooling2d_3 (MaxPoolin  (None, 16, 16, 64)        0         \n",
      " g2D)                                                            \n",
      "                                                                 \n",
      " conv2d_4 (Conv2D)           (None, 14, 14, 64)        36928     \n",
      "                                                                 \n",
      " max_pooling2d_4 (MaxPoolin  (None, 7, 7, 64)          0         \n",
      " g2D)                                                            \n",
      "                                                                 \n",
      " flatten (Flatten)           (None, 3136)              0         \n",
      "                                                                 \n",
      " dense (Dense)               (None, 512)               1606144   \n",
      "                                                                 \n",
      " dense_1 (Dense)             (None, 1)                 513       \n",
      "                                                                 \n",
      "=================================================================\n",
      "Total params: 1704097 (6.50 MB)\n",
      "Trainable params: 1704097 (6.50 MB)\n",
      "Non-trainable params: 0 (0.00 Byte)\n",
      "_________________________________________________________________\n"
     ]
    }
   ],
   "source": [
    "model.summary()"
   ]
  },
  {
   "cell_type": "code",
   "execution_count": 7,
   "id": "ed02d8fc-c028-464f-a640-847f2ab5c0bf",
   "metadata": {},
   "outputs": [],
   "source": [
    "model.compile(\n",
    "    loss=\"binary_crossentropy\",\n",
    "    optimizer=RMSprop(learning_rate=0.001),\n",
    "    metrics=['accuracy']\n",
    ")"
   ]
  },
  {
   "cell_type": "code",
   "execution_count": 19,
   "id": "76e62c06-9cd9-48e9-b871-779225a92a7d",
   "metadata": {},
   "outputs": [
    {
     "name": "stdout",
     "output_type": "stream",
     "text": [
      "Epoch 1/15\n",
      "33/33 [==============================] - 16s 473ms/step - loss: 6.8595e-07 - accuracy: 1.0000 - val_loss: 4.4735 - val_accuracy: 0.7852\n",
      "Epoch 2/15\n",
      "33/33 [==============================] - 17s 507ms/step - loss: 6.1557e-07 - accuracy: 1.0000 - val_loss: 4.4856 - val_accuracy: 0.7852\n",
      "Epoch 3/15\n",
      "33/33 [==============================] - 16s 490ms/step - loss: 5.8680e-07 - accuracy: 1.0000 - val_loss: 4.5166 - val_accuracy: 0.7852\n",
      "Epoch 4/15\n",
      "33/33 [==============================] - 15s 459ms/step - loss: 5.3446e-07 - accuracy: 1.0000 - val_loss: 4.5110 - val_accuracy: 0.7852\n",
      "Epoch 5/15\n",
      "33/33 [==============================] - 16s 475ms/step - loss: 5.0302e-07 - accuracy: 1.0000 - val_loss: 4.5259 - val_accuracy: 0.7852\n",
      "Epoch 6/15\n",
      "33/33 [==============================] - 15s 465ms/step - loss: 4.6721e-07 - accuracy: 1.0000 - val_loss: 4.5683 - val_accuracy: 0.7852\n",
      "Epoch 7/15\n",
      "33/33 [==============================] - 16s 492ms/step - loss: 4.4176e-07 - accuracy: 1.0000 - val_loss: 4.5932 - val_accuracy: 0.7852\n",
      "Epoch 8/15\n",
      "33/33 [==============================] - 18s 547ms/step - loss: 4.1362e-07 - accuracy: 1.0000 - val_loss: 4.5910 - val_accuracy: 0.7852\n",
      "Epoch 9/15\n",
      "33/33 [==============================] - 16s 485ms/step - loss: 3.9898e-07 - accuracy: 1.0000 - val_loss: 4.5683 - val_accuracy: 0.7852\n",
      "Epoch 10/15\n",
      "33/33 [==============================] - 17s 498ms/step - loss: 3.7874e-07 - accuracy: 1.0000 - val_loss: 4.5963 - val_accuracy: 0.7852\n",
      "Epoch 11/15\n",
      "33/33 [==============================] - 19s 572ms/step - loss: 3.6161e-07 - accuracy: 1.0000 - val_loss: 4.6062 - val_accuracy: 0.7852\n",
      "Epoch 12/15\n",
      "33/33 [==============================] - 17s 514ms/step - loss: 3.4998e-07 - accuracy: 1.0000 - val_loss: 4.6478 - val_accuracy: 0.7852\n",
      "Epoch 13/15\n",
      "33/33 [==============================] - 17s 500ms/step - loss: 3.2857e-07 - accuracy: 1.0000 - val_loss: 4.6533 - val_accuracy: 0.7852\n",
      "Epoch 14/15\n",
      "33/33 [==============================] - 15s 439ms/step - loss: 3.1391e-07 - accuracy: 1.0000 - val_loss: 4.6542 - val_accuracy: 0.7852\n",
      "Epoch 15/15\n",
      "33/33 [==============================] - 17s 505ms/step - loss: 3.0857e-07 - accuracy: 1.0000 - val_loss: 4.6799 - val_accuracy: 0.7852\n"
     ]
    }
   ],
   "source": [
    "history = model.fit(\n",
    "    train_generator,\n",
    "    validation_data=validation_generator,\n",
    "    epochs=15\n",
    ")"
   ]
  },
  {
   "cell_type": "code",
   "execution_count": null,
   "id": "19c22567-9396-4ac1-ac15-5cfb60cdb91b",
   "metadata": {},
   "outputs": [],
   "source": []
  }
 ],
 "metadata": {
  "kernelspec": {
   "display_name": "Python 3 (ipykernel)",
   "language": "python",
   "name": "python3"
  },
  "language_info": {
   "codemirror_mode": {
    "name": "ipython",
    "version": 3
   },
   "file_extension": ".py",
   "mimetype": "text/x-python",
   "name": "python",
   "nbconvert_exporter": "python",
   "pygments_lexer": "ipython3",
   "version": "3.11.5"
  }
 },
 "nbformat": 4,
 "nbformat_minor": 5
}
