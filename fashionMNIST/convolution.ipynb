{
 "cells": [
  {
   "cell_type": "code",
   "execution_count": 7,
   "id": "651f172d-4c1d-4b21-b30a-d16a481010a2",
   "metadata": {},
   "outputs": [],
   "source": [
    "import tensorflow as tf \n",
    "from tensorflow.keras import Sequential \n",
    "from tensorflow.keras.layers import Conv2D, MaxPooling2D, Flatten, Dense\n",
    "from tensorflow.nn import relu, softmax"
   ]
  },
  {
   "cell_type": "code",
   "execution_count": 9,
   "id": "4a3df398-218e-43ce-ae3a-69b9ecef7f28",
   "metadata": {},
   "outputs": [],
   "source": [
    "data = tf.keras.datasets.fashion_mnist\n",
    "\n",
    "(training_images, training_labels), (testing_images, testing_labels) = data.load_data()\n",
    "\n",
    "training_images = training_images.reshape(60000, 28, 28, 1) # chaning gray scale to rgb shape\n",
    "training_images = training_images / 255.0 # normalizing \n",
    "\n",
    "testing_images = testing_images.reshape(10000, 28, 28, 1) # converting gray scale to rgb shape\n",
    "testing_images = testing_images / 255.0 # normalizing"
   ]
  },
  {
   "cell_type": "code",
   "execution_count": 10,
   "id": "932e2492-d570-4483-bbd9-6599d6754798",
   "metadata": {},
   "outputs": [],
   "source": [
    "model = Sequential([\n",
    "    # number of neurons, grid size\n",
    "    Conv2D(64, (3, 3), activation=\"relu\", input_shape=(28, 28, 1)),\n",
    "    MaxPooling2D(2, 2),\n",
    "    Conv2D(64, (3, 3), activation=\"relu\"),\n",
    "    MaxPooling2D(2, 2),\n",
    "    Flatten(),\n",
    "    Dense(128, activation=relu),\n",
    "    Dense(10, activation=softmax)\n",
    "])\n"
   ]
  },
  {
   "cell_type": "code",
   "execution_count": 11,
   "id": "86fbc417-27d9-4a91-ba8d-b023bde26dfc",
   "metadata": {},
   "outputs": [],
   "source": [
    "model.compile(optimizer=\"adam\", loss=\"sparse_categorical_crossentropy\", metrics=['accuracy'])"
   ]
  },
  {
   "cell_type": "code",
   "execution_count": 12,
   "id": "e7ae882f-4200-4b80-8eda-9b7575388dac",
   "metadata": {},
   "outputs": [
    {
     "name": "stdout",
     "output_type": "stream",
     "text": [
      "Epoch 1/50\n",
      "1875/1875 [==============================] - 20s 10ms/step - loss: 0.4381 - accuracy: 0.8394\n",
      "Epoch 2/50\n",
      "1875/1875 [==============================] - 21s 11ms/step - loss: 0.2944 - accuracy: 0.8915\n",
      "Epoch 3/50\n",
      "1875/1875 [==============================] - 22s 12ms/step - loss: 0.2477 - accuracy: 0.9082\n",
      "Epoch 4/50\n",
      "1875/1875 [==============================] - 22s 12ms/step - loss: 0.2139 - accuracy: 0.9207\n",
      "Epoch 5/50\n",
      "1875/1875 [==============================] - 19s 10ms/step - loss: 0.1874 - accuracy: 0.9300\n",
      "Epoch 6/50\n",
      "1875/1875 [==============================] - 20s 11ms/step - loss: 0.1654 - accuracy: 0.9383\n",
      "Epoch 7/50\n",
      "1875/1875 [==============================] - 20s 10ms/step - loss: 0.1465 - accuracy: 0.9445\n",
      "Epoch 8/50\n",
      "1875/1875 [==============================] - 20s 10ms/step - loss: 0.1284 - accuracy: 0.9521\n",
      "Epoch 9/50\n",
      "1875/1875 [==============================] - 21s 11ms/step - loss: 0.1135 - accuracy: 0.9577\n",
      "Epoch 10/50\n",
      "1875/1875 [==============================] - 25s 13ms/step - loss: 0.0993 - accuracy: 0.9624\n",
      "Epoch 11/50\n",
      "1875/1875 [==============================] - 28s 15ms/step - loss: 0.0877 - accuracy: 0.9671\n",
      "Epoch 12/50\n",
      "1875/1875 [==============================] - 21s 11ms/step - loss: 0.0780 - accuracy: 0.9714\n",
      "Epoch 13/50\n",
      "1875/1875 [==============================] - 19s 10ms/step - loss: 0.0687 - accuracy: 0.9738\n",
      "Epoch 14/50\n",
      "1875/1875 [==============================] - 20s 11ms/step - loss: 0.0662 - accuracy: 0.9745\n",
      "Epoch 15/50\n",
      "1875/1875 [==============================] - 20s 11ms/step - loss: 0.0578 - accuracy: 0.9785\n",
      "Epoch 16/50\n",
      "1875/1875 [==============================] - 19s 10ms/step - loss: 0.0510 - accuracy: 0.9811\n",
      "Epoch 17/50\n",
      "1875/1875 [==============================] - 19s 10ms/step - loss: 0.0477 - accuracy: 0.9823\n",
      "Epoch 18/50\n",
      "1875/1875 [==============================] - 18s 10ms/step - loss: 0.0447 - accuracy: 0.9836\n",
      "Epoch 19/50\n",
      "1875/1875 [==============================] - 18s 10ms/step - loss: 0.0410 - accuracy: 0.9847\n",
      "Epoch 20/50\n",
      "1875/1875 [==============================] - 18s 10ms/step - loss: 0.0395 - accuracy: 0.9856\n",
      "Epoch 21/50\n",
      "1875/1875 [==============================] - 18s 10ms/step - loss: 0.0349 - accuracy: 0.9873\n",
      "Epoch 22/50\n",
      "1875/1875 [==============================] - 18s 10ms/step - loss: 0.0343 - accuracy: 0.9874\n",
      "Epoch 23/50\n",
      "1875/1875 [==============================] - 18s 10ms/step - loss: 0.0323 - accuracy: 0.9888\n",
      "Epoch 24/50\n",
      "1875/1875 [==============================] - 18s 10ms/step - loss: 0.0302 - accuracy: 0.9887\n",
      "Epoch 25/50\n",
      "1875/1875 [==============================] - 19s 10ms/step - loss: 0.0312 - accuracy: 0.9886\n",
      "Epoch 26/50\n",
      "1875/1875 [==============================] - 25s 13ms/step - loss: 0.0286 - accuracy: 0.9897\n",
      "Epoch 27/50\n",
      "1875/1875 [==============================] - 21s 11ms/step - loss: 0.0275 - accuracy: 0.9897\n",
      "Epoch 28/50\n",
      "1875/1875 [==============================] - 19s 10ms/step - loss: 0.0259 - accuracy: 0.9908\n",
      "Epoch 29/50\n",
      "1875/1875 [==============================] - 19s 10ms/step - loss: 0.0240 - accuracy: 0.9916\n",
      "Epoch 30/50\n",
      "1875/1875 [==============================] - 19s 10ms/step - loss: 0.0251 - accuracy: 0.9909\n",
      "Epoch 31/50\n",
      "1875/1875 [==============================] - 20s 11ms/step - loss: 0.0259 - accuracy: 0.9910\n",
      "Epoch 32/50\n",
      "1875/1875 [==============================] - 22s 12ms/step - loss: 0.0237 - accuracy: 0.9916\n",
      "Epoch 33/50\n",
      "1875/1875 [==============================] - 23s 12ms/step - loss: 0.0245 - accuracy: 0.9914\n",
      "Epoch 34/50\n",
      "1875/1875 [==============================] - 23s 13ms/step - loss: 0.0227 - accuracy: 0.9920\n",
      "Epoch 35/50\n",
      "1875/1875 [==============================] - 19s 10ms/step - loss: 0.0201 - accuracy: 0.9933\n",
      "Epoch 36/50\n",
      "1875/1875 [==============================] - 20s 11ms/step - loss: 0.0224 - accuracy: 0.9924\n",
      "Epoch 37/50\n",
      "1875/1875 [==============================] - 21s 11ms/step - loss: 0.0195 - accuracy: 0.9935\n",
      "Epoch 38/50\n",
      "1875/1875 [==============================] - 20s 11ms/step - loss: 0.0229 - accuracy: 0.9924\n",
      "Epoch 39/50\n",
      "1875/1875 [==============================] - 20s 10ms/step - loss: 0.0212 - accuracy: 0.9927\n",
      "Epoch 40/50\n",
      "1875/1875 [==============================] - 20s 11ms/step - loss: 0.0228 - accuracy: 0.9926\n",
      "Epoch 41/50\n",
      "1875/1875 [==============================] - 21s 11ms/step - loss: 0.0189 - accuracy: 0.9934\n",
      "Epoch 42/50\n",
      "1875/1875 [==============================] - 20s 11ms/step - loss: 0.0174 - accuracy: 0.9944\n",
      "Epoch 43/50\n",
      "1875/1875 [==============================] - 21s 11ms/step - loss: 0.0221 - accuracy: 0.9928\n",
      "Epoch 44/50\n",
      "1875/1875 [==============================] - 22s 12ms/step - loss: 0.0191 - accuracy: 0.9939\n",
      "Epoch 45/50\n",
      "1875/1875 [==============================] - 22s 12ms/step - loss: 0.0213 - accuracy: 0.9933\n",
      "Epoch 46/50\n",
      "1875/1875 [==============================] - 20s 11ms/step - loss: 0.0168 - accuracy: 0.9947\n",
      "Epoch 47/50\n",
      "1875/1875 [==============================] - 21s 11ms/step - loss: 0.0213 - accuracy: 0.9933\n",
      "Epoch 48/50\n",
      "1875/1875 [==============================] - 20s 11ms/step - loss: 0.0181 - accuracy: 0.9942\n",
      "Epoch 49/50\n",
      "1875/1875 [==============================] - 20s 11ms/step - loss: 0.0141 - accuracy: 0.9955\n",
      "Epoch 50/50\n",
      "1875/1875 [==============================] - 22s 12ms/step - loss: 0.0189 - accuracy: 0.9940\n"
     ]
    },
    {
     "data": {
      "text/plain": [
       "<keras.src.callbacks.History at 0x7f50b6cbf9d0>"
      ]
     },
     "execution_count": 12,
     "metadata": {},
     "output_type": "execute_result"
    }
   ],
   "source": [
    "model.fit(training_images, training_labels, epochs=50)"
   ]
  },
  {
   "cell_type": "code",
   "execution_count": 13,
   "id": "dc9a2471-0f57-4099-bd22-2165efeb6462",
   "metadata": {},
   "outputs": [
    {
     "name": "stdout",
     "output_type": "stream",
     "text": [
      "313/313 [==============================] - 2s 4ms/step - loss: 0.9885 - accuracy: 0.9076\n"
     ]
    },
    {
     "data": {
      "text/plain": [
       "[0.9884644746780396, 0.9075999855995178]"
      ]
     },
     "execution_count": 13,
     "metadata": {},
     "output_type": "execute_result"
    }
   ],
   "source": [
    "model.evaluate(testing_images, testing_labels)"
   ]
  },
  {
   "cell_type": "code",
   "execution_count": 15,
   "id": "786f3505-389f-4741-9362-57804a7f0872",
   "metadata": {},
   "outputs": [
    {
     "name": "stdout",
     "output_type": "stream",
     "text": [
      "Model: \"sequential_1\"\n",
      "_________________________________________________________________\n",
      " Layer (type)                Output Shape              Param #   \n",
      "=================================================================\n",
      " conv2d (Conv2D)             (None, 26, 26, 64)        640       \n",
      "                                                                 \n",
      " max_pooling2d (MaxPooling2  (None, 13, 13, 64)        0         \n",
      " D)                                                              \n",
      "                                                                 \n",
      " conv2d_1 (Conv2D)           (None, 11, 11, 64)        36928     \n",
      "                                                                 \n",
      " max_pooling2d_1 (MaxPoolin  (None, 5, 5, 64)          0         \n",
      " g2D)                                                            \n",
      "                                                                 \n",
      " flatten_1 (Flatten)         (None, 1600)              0         \n",
      "                                                                 \n",
      " dense_2 (Dense)             (None, 128)               204928    \n",
      "                                                                 \n",
      " dense_3 (Dense)             (None, 10)                1290      \n",
      "                                                                 \n",
      "=================================================================\n",
      "Total params: 243786 (952.29 KB)\n",
      "Trainable params: 243786 (952.29 KB)\n",
      "Non-trainable params: 0 (0.00 Byte)\n",
      "_________________________________________________________________\n"
     ]
    }
   ],
   "source": [
    "model.summary()"
   ]
  },
  {
   "cell_type": "code",
   "execution_count": null,
   "id": "c2321d36-e820-4192-af80-34f01848b045",
   "metadata": {},
   "outputs": [],
   "source": []
  }
 ],
 "metadata": {
  "kernelspec": {
   "display_name": "Python 3 (ipykernel)",
   "language": "python",
   "name": "python3"
  },
  "language_info": {
   "codemirror_mode": {
    "name": "ipython",
    "version": 3
   },
   "file_extension": ".py",
   "mimetype": "text/x-python",
   "name": "python",
   "nbconvert_exporter": "python",
   "pygments_lexer": "ipython3",
   "version": "3.11.5"
  }
 },
 "nbformat": 4,
 "nbformat_minor": 5
}
